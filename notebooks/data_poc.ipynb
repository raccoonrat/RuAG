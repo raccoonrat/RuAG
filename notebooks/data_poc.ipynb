# notebooks/data_poc.ipynb
import pandas as pd
import matplotlib.pyplot as plt
from src.data.preprocess import preprocess_data
from src.data.discretize import discretize_features

# 1. 加载 Iris 数据集
from sklearn.datasets import load_iris
iris = load_iris()
df = pd.DataFrame(iris.data, columns=iris.feature_names)
df['label'] = iris.target
df.to_csv("data/raw/iris.csv", index=False)  # 保存为 CSV 文件

# 2. 预处理数据
preprocessed_df = preprocess_data("data/raw/iris.csv", "data/processed/iris_preprocessed.csv")

# 3. 离散化特征（以 sepal length 为例）
discretized_df = discretize_features(preprocessed_df, 'sepal length (cm)', 'label', n_bins=5)

# 4. 可视化
plt.figure(figsize=(12, 6))

# 离散化前
plt.subplot(1, 2, 1)
plt.hist(preprocessed_df['sepal length (cm)'], bins=20, color='blue', alpha=0.7)
plt.title('Before Discretization')
plt.xlabel('Sepal Length (cm)')
plt.ylabel('Frequency')

# 离散化后
plt.subplot(1, 2, 2)
discretized_df['sepal_length_discrete'].value_counts().plot(kind='bar', color='green', alpha=0.7)
plt.title('After Discretization')
plt.xlabel('Discrete Bins')
plt.ylabel('Frequency')

plt.tight_layout()
plt.show()
